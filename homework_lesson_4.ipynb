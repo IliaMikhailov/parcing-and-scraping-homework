{
 "cells": [
  {
   "cell_type": "code",
   "execution_count": 26,
   "id": "71552a40",
   "metadata": {},
   "outputs": [],
   "source": [
    "import sqlite3\n",
    "connection = sqlite3.connect('sqlite.db')\n",
    "cursor = connection.cursor()"
   ]
  },
  {
   "cell_type": "markdown",
   "id": "fce7df94",
   "metadata": {},
   "source": [
    "Создаём таблицу для данных"
   ]
  },
  {
   "cell_type": "code",
   "execution_count": 14,
   "id": "ca174cae",
   "metadata": {},
   "outputs": [],
   "source": [
    "query = '''\n",
    "    CREATE TABLE quotes(\n",
    "        quote TEXT,\n",
    "        author TEXT,\n",
    "        tags TEXT\n",
    "    )\n",
    "'''\n",
    "cursor.execute(query)\n",
    "connection.commit()"
   ]
  },
  {
   "cell_type": "markdown",
   "id": "ba9f26a2",
   "metadata": {},
   "source": [
    "Собираем данные со всех страниц в массив"
   ]
  },
  {
   "cell_type": "code",
   "execution_count": 23,
   "id": "14882e15",
   "metadata": {},
   "outputs": [
    {
     "name": "stdout",
     "output_type": "stream",
     "text": [
      "DONE\n"
     ]
    }
   ],
   "source": [
    "url = 'https://quotes.toscrape.com/'\n",
    "new_quotes = []\n",
    "while True:\n",
    "    req = requests.get(url)\n",
    "    soup = bs(req.content, 'html.parser')\n",
    "    all_quotes = soup.select('div[class=quote]')\n",
    "    for quote in all_quotes:\n",
    "        text = quote.find('span', class_='text').text\n",
    "        author = quote.find('small', attrs={'class': 'author'}).text\n",
    "        tags = quote.find('meta', class_='keywords')['content']\n",
    "        new_quotes += [(text, author,tags)]\n",
    "    try:\n",
    "        next_page = soup.select_one('li[class=next] a')['href']\n",
    "        url = 'https://quotes.toscrape.com/' + next_page\n",
    "        continue\n",
    "    except:\n",
    "        break\n",
    "    else:\n",
    "         print(f'Ошибка: {req.status_code}')\n",
    "print('DONE')"
   ]
  },
  {
   "cell_type": "markdown",
   "id": "26d2a62c",
   "metadata": {},
   "source": [
    "Записываем данные в таблицу"
   ]
  },
  {
   "cell_type": "code",
   "execution_count": 28,
   "id": "555e595d",
   "metadata": {},
   "outputs": [],
   "source": [
    "insert_query = '''\n",
    "    INSERT INTO quotes(\n",
    "        quote,\n",
    "        author,\n",
    "        tags\n",
    "        \n",
    "    )\n",
    "    VALUES(\n",
    "        ?,\n",
    "        ?,\n",
    "        ?\n",
    "    )\n",
    "'''\n",
    "cursor.executemany(insert_query, new_quotes)\n",
    "connection.commit()"
   ]
  },
  {
   "cell_type": "markdown",
   "id": "bfa1e916",
   "metadata": {},
   "source": [
    "Проверка заполнена ли таблица"
   ]
  },
  {
   "cell_type": "code",
   "execution_count": 30,
   "id": "84c52835",
   "metadata": {},
   "outputs": [
    {
     "data": {
      "text/plain": [
       "<sqlite3.Cursor at 0x58d1b20>"
      ]
     },
     "execution_count": 30,
     "metadata": {},
     "output_type": "execute_result"
    }
   ],
   "source": [
    "list(cursor.execute('SELECT * FROM quotes'))"
   ]
  },
  {
   "cell_type": "markdown",
   "id": "f2411589",
   "metadata": {},
   "source": [
    "Удаляем таблицу"
   ]
  },
  {
   "cell_type": "code",
   "execution_count": 31,
   "id": "888d0992",
   "metadata": {},
   "outputs": [
    {
     "data": {
      "text/plain": [
       "<sqlite3.Cursor at 0x58d1b20>"
      ]
     },
     "execution_count": 31,
     "metadata": {},
     "output_type": "execute_result"
    }
   ],
   "source": [
    "cursor.execute('DROP TABLE if exists quotes')"
   ]
  },
  {
   "cell_type": "code",
   "execution_count": 34,
   "id": "f0ed5eb4",
   "metadata": {},
   "outputs": [],
   "source": [
    "connection.close()"
   ]
  },
  {
   "cell_type": "code",
   "execution_count": null,
   "id": "83fb5f25",
   "metadata": {},
   "outputs": [],
   "source": []
  }
 ],
 "metadata": {
  "kernelspec": {
   "display_name": "Python 3",
   "language": "python",
   "name": "python3"
  },
  "language_info": {
   "codemirror_mode": {
    "name": "ipython",
    "version": 3
   },
   "file_extension": ".py",
   "mimetype": "text/x-python",
   "name": "python",
   "nbconvert_exporter": "python",
   "pygments_lexer": "ipython3",
   "version": "3.8.8"
  }
 },
 "nbformat": 4,
 "nbformat_minor": 5
}
